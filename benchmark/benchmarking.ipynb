{
 "cells": [
  {
   "cell_type": "code",
   "execution_count": 1,
   "id": "initial_id",
   "metadata": {
    "ExecuteTime": {
     "end_time": "2024-05-31T16:48:21.976729Z",
     "start_time": "2024-05-31T16:48:21.971210Z"
    },
    "collapsed": true
   },
   "outputs": [],
   "source": [
    "import random\n",
    "import os\n",
    "import subprocess"
   ]
  },
  {
   "cell_type": "code",
   "execution_count": 5,
   "id": "bac3f0f5f2dde59d",
   "metadata": {
    "ExecuteTime": {
     "end_time": "2024-05-31T16:48:28.477193Z",
     "start_time": "2024-05-31T16:48:28.334349Z"
    }
   },
   "outputs": [
    {
     "name": "stderr",
     "output_type": "stream",
     "text": [
      "A subdirectory or file sim_genome already exists.\n"
     ]
    }
   ],
   "source": [
    "!mkdir sim_genome\n",
    "\n",
    "#This will create a number of simulated genomes and a single reads file\n",
    "\n",
    "ncs = ['A', 'C', 'G', 'T']\n",
    "\n",
    "for i in range(30):\n",
    "    genome = open(f'sim_genome/genome{i}.fa', 'w')\n",
    "    genome.write(f\">seq{i}\\n\")\n",
    "    db = ''\n",
    "    for nc in range(i * 5000):\n",
    "        db += random.choice(ncs)\n",
    "    genome.write(db)\n",
    "    genome.close()\n",
    "\n",
    "genome = open(f'sim_genome/genome1.fa', 'r')\n",
    "db = ''.join(line.strip() for line in genome if not line.startswith('>'))\n",
    "\n",
    "reads = []\n",
    "for i in range(50):\n",
    "    index = random.randint(0, len(db) - 100 + 1)\n",
    "    read = db[index:index + 100]\n",
    "    reads.append(read)\n",
    "\n",
    "error_reads = []    \n",
    "for read in reads:\n",
    "    new_read = ''\n",
    "    for nc in read:\n",
    "        chance = random.randint(0, 100)\n",
    "        if chance > 99:\n",
    "            new_read += ncs[random.randint(0, 3)]\n",
    "        else:\n",
    "            new_read += nc\n",
    "    error_reads.append(new_read)\n",
    "    \n",
    "reads = open(f\"sim_genome/reads1.fa\", \"w\")\n",
    "counter = 0\n",
    "for read in error_reads:\n",
    "    reads.write(f\">reads{counter}\\n\")\n",
    "    reads.write(read + '\\n')\n",
    "    counter += 1\n",
    "reads.close()"
   ]
  },
  {
   "cell_type": "code",
   "execution_count": 3,
   "id": "27e5d6616d1e1e63",
   "metadata": {
    "ExecuteTime": {
     "end_time": "2024-05-31T17:28:51.701693Z",
     "start_time": "2024-05-31T17:28:51.435539Z"
    }
   },
   "outputs": [
    {
     "name": "stderr",
     "output_type": "stream",
     "text": [
      "A subdirectory or file sim_reads already exists.\n"
     ]
    }
   ],
   "source": [
    "! mkdir sim_reads\n",
    "\n",
    "# This creates of genomes and a number of simulation reads\n",
    "\n",
    "db =''\n",
    "for i in range(20000):\n",
    "    db += random.choice(ncs)\n",
    "genome = open(f'sim_reads/genome1.fa', 'w')\n",
    "genome.write(f\">seq1\\n\")\n",
    "genome.write(db)\n",
    "genome.close()\n",
    "\n",
    "for i in range(30):\n",
    "    reads = []\n",
    "    for j in range(i * 50):\n",
    "        index = random.randint(0, len(db) - 30 + 1)\n",
    "        read = db[index:index + 30]\n",
    "        reads.append(read)\n",
    "    \n",
    "    error_reads = []    \n",
    "    for read in reads:\n",
    "        new_read = ''\n",
    "        for nc in read:\n",
    "            chance = random.randint(0, 100)\n",
    "            if chance > 99:\n",
    "                new_read += ncs[random.randint(0, 3)]\n",
    "            else:\n",
    "                new_read += nc\n",
    "        error_reads.append(new_read)\n",
    "        \n",
    "        reads = open(f\"sim_reads/reads{i}.fa\", \"w\")\n",
    "        counter = 0\n",
    "        for read in error_reads:\n",
    "            reads.write(f\">read{i}.{counter}\\n\")\n",
    "            reads.write(read + '\\n')\n",
    "            counter += 1\n",
    "        reads.close()\n",
    "        "
   ]
  },
  {
   "cell_type": "code",
   "execution_count": 4,
   "id": "198d1619ffcb7973",
   "metadata": {
    "ExecuteTime": {
     "end_time": "2024-05-31T18:10:25.694708Z",
     "start_time": "2024-05-31T18:10:25.540428Z"
    }
   },
   "outputs": [
    {
     "name": "stderr",
     "output_type": "stream",
     "text": [
      "A subdirectory or file sim_error already exists.\n"
     ]
    }
   ],
   "source": [
    "! mkdir sim_error\n",
    "\n",
    "# This will create the reads with different levels of error\n",
    "\n",
    "db =''\n",
    "for i in range(20000):\n",
    "    db += random.choice(ncs)\n",
    "genome = open(f'sim_error/genome1.fa', 'w')\n",
    "genome.write(f\">seq1\\n\")\n",
    "genome.write(db)\n",
    "genome.close()\n",
    "\n",
    "for i in range(30):\n",
    "    reads = []\n",
    "    for j in range(50):\n",
    "        index = random.randint(0, len(db) - 30 + 1)\n",
    "        read = db[index:index + 30]\n",
    "        reads.append(read)\n",
    "\n",
    "    error_reads = []    \n",
    "    for read in reads:\n",
    "        new_read = ''\n",
    "        for nc in read:\n",
    "            chance = random.randint(0, 100)\n",
    "            if chance > 100 - i:\n",
    "                new_read += ncs[random.randint(0, 3)]\n",
    "            else:\n",
    "                new_read += nc\n",
    "        error_reads.append(new_read)\n",
    "            \n",
    "        reads = open(f\"sim_error/reads{i}.fa\", \"w\")\n",
    "        counter = 0\n",
    "        for read in error_reads:\n",
    "            reads.write(f\">read{i}.{counter}\\n\")\n",
    "            reads.write(read + '\\n')\n",
    "            counter += 1\n",
    "        reads.close()"
   ]
  },
  {
   "cell_type": "markdown",
   "id": "7a036fc1",
   "metadata": {},
   "source": [
    "Run the following commands into the terminal:\n",
    "\n",
    "```\n",
    "cd benchmark\n",
    "mkdir sim_error_output\n",
    "mkdir sim_error_bench\n",
    "mkdir sim_genome_output\n",
    "mkdir sim_genome_bench\n",
    "mkdir sim_reads_output\n",
    "mkdir sim_reads_bench\n",
    "cd -\n",
    "```\n",
    "\n",
    "```\n",
    "for i in {0..29}; do python alignfix --genome benchmark/sim_error/genome1.fa --query benchmark/sim_error/reads$i.fa --output benchmark/sim_error_output/error_output$i.txt --bench benchmark/sim_error_bench/error_bench$i.txt; done\n",
    "```\n",
    "\n",
    "```\n",
    "for i in {0..29}; do python alignfix --genome benchmark/sim_genome/genome$i.fa --query benchmark/sim_genome/reads1.fa --output benchmark/sim_genome_output/genome_output$i.txt --bench benchmark/sim_genome_bench/genome_bench$i.txt; done\n",
    "```\n",
    "\n",
    "```\n",
    "for i in {0..29}; do python alignfix --genome benchmark/sim_reads/genome1.fa --query benchmark/sim_reads/reads$i.fa --output benchmark/sim_reads_output/reads_output$i.txt --bench benchmark/sim_reads_bench/reads_bench$i.txt; done\n",
    "```"
   ]
  }
 ],
 "metadata": {
  "kernelspec": {
   "display_name": "Python 3",
   "language": "python",
   "name": "python3"
  },
  "language_info": {
   "codemirror_mode": {
    "name": "ipython",
    "version": 3
   },
   "file_extension": ".py",
   "mimetype": "text/x-python",
   "name": "python",
   "nbconvert_exporter": "python",
   "pygments_lexer": "ipython3",
   "version": "3.12.0"
  }
 },
 "nbformat": 4,
 "nbformat_minor": 5
}
